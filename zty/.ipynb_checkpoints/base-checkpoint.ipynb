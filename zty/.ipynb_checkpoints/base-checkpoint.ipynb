{
 "cells": [
  {
   "cell_type": "markdown",
   "metadata": {},
   "source": [
    "### 目录\n",
    "- [**base.ipynb**](./base.ipynb): Python基础\n",
    "- [**loops.ipynb**](./loops.ipynb): Python循环语句\n",
    "- [**pythonic.ipynb**](./pythonic.ipynb): pythonic的编码示例，让代码更优雅\n",
    "- [**spider.ipynb**](./spider.ipynb): 一个网易云音乐歌词爬虫\n",
    "- [**wordcloud.ipynb**](./wordcloud.ipynb): 一个词云生成器"
   ]
  },
  {
   "cell_type": "markdown",
   "metadata": {},
   "source": [
    "# Python概述"
   ]
  },
  {
   "cell_type": "markdown",
   "metadata": {},
   "source": [
    "### Python之父\n",
    "![image](./data/guido.jpg)\n",
    "\n",
    "### Guido van Rossum\n",
    "- 荷兰人\n",
    "- 第一位终身仁慈独裁者（[Benevolent dictator for life](https://en.wikipedia.org/wiki/Benevolent_dictator_for_life)）\n",
    "- 2005年加入Google\n",
    "- 2012年加入Dropbox\n",
    "- 趣闻：[If Guido was hit by a bus?](http://legacy.python.org/search/hypermail/python-1994q2/1040.html)\n",
    "\n",
    "### Python发展史\n",
    "- Python的名字来源于英国喜剧《蒙提·派森的飞行马戏团》（Monty Python and the Flying Circus）\n",
    "- 1989年被创造\n",
    "- 1991年发布Python第一个编译器，基于C语言实现，也叫CPython\n",
    "- 2000年发布Python2.0\n",
    "- 2008年发布Python3.0\n",
    "\n",
    "### 学习资料\n",
    "- Python官网：[官网](https://www.python.org/)\n",
    "- Vimei的博客：[Python快速教程](http://www.cnblogs.com/vamei/archive/2012/09/13/2682778.html)\n",
    "- 学习笔记：[本地资源](../notes-python/)   [GitHub](https://github.com/lijin-THU/notes-python)\n"
   ]
  },
  {
   "cell_type": "markdown",
   "metadata": {},
   "source": [
    "## Python之禅"
   ]
  },
  {
   "cell_type": "code",
   "execution_count": 1,
   "metadata": {},
   "outputs": [
    {
     "name": "stdout",
     "output_type": "stream",
     "text": [
      "The Zen of Python, by Tim Peters\n",
      "\n",
      "Beautiful is better than ugly.\n",
      "Explicit is better than implicit.\n",
      "Simple is better than complex.\n",
      "Complex is better than complicated.\n",
      "Flat is better than nested.\n",
      "Sparse is better than dense.\n",
      "Readability counts.\n",
      "Special cases aren't special enough to break the rules.\n",
      "Although practicality beats purity.\n",
      "Errors should never pass silently.\n",
      "Unless explicitly silenced.\n",
      "In the face of ambiguity, refuse the temptation to guess.\n",
      "There should be one-- and preferably only one --obvious way to do it.\n",
      "Although that way may not be obvious at first unless you're Dutch.\n",
      "Now is better than never.\n",
      "Although never is often better than *right* now.\n",
      "If the implementation is hard to explain, it's a bad idea.\n",
      "If the implementation is easy to explain, it may be a good idea.\n",
      "Namespaces are one honking great idea -- let's do more of those!\n"
     ]
    }
   ],
   "source": [
    "import this"
   ]
  },
  {
   "cell_type": "markdown",
   "metadata": {},
   "source": [
    "### Python之禅， by Tim Peters\n",
    "\n",
    " \n",
    "* 优美胜于丑陋（Python 以编写优美的代码为目标）\n",
    "* 明了胜于晦涩（优美的代码应当是明了的，命名规范，风格相似）\n",
    "* 简洁胜于复杂（优美的代码应当是简洁的，不要有复杂的内部实现）\n",
    "* 复杂胜于凌乱（如果复杂不可避免，那代码间也不能有难懂的关系，要保持接口简洁）\n",
    "* 扁平胜于嵌套（优美的代码应当是扁平的，不能有太多的嵌套）\n",
    "* 间隔胜于紧凑（优美的代码有适当的间隔，不要奢望一行代码解决问题）\n",
    "* 可读性很重要（优美的代码是可读的）\n",
    "* 即便假借特例的实用性之名，也不可违背这些规则（这些规则至高无上）\n",
    "\n",
    "* 不要包容所有错误，除非你确定需要这样做（精准地捕获异常，不写 except:pass 风格的代码）\n",
    "\n",
    "* 当存在多种可能，不要尝试去猜测\n",
    "* 而是尽量找一种，最好是唯一一种明显的解决方案（如果不确定，就用穷举法）\n",
    "* 虽然这并不容易，因为你不是荷兰人（Guido 是荷兰人）\n",
    "\n",
    "* 做也许好过不做，但不假思索就动手还不如不做（动手之前要细思量）\n",
    "\n",
    "* 如果你无法向人描述你的方案，那肯定不是一个好方案；反之亦然（方案测评标准）\n",
    "\n",
    "* 命名空间是一种绝妙的理念，我们应当多加利用（倡导与号召）"
   ]
  },
  {
   "cell_type": "markdown",
   "metadata": {},
   "source": [
    "## 安装python和pip\n",
    "* 网上都有，不多说了\n",
    "* 参考[python官网](https://www.python.org/getit/)"
   ]
  },
  {
   "cell_type": "markdown",
   "metadata": {},
   "source": [
    "## HELLO WORLD"
   ]
  },
  {
   "cell_type": "code",
   "execution_count": 8,
   "metadata": {
    "scrolled": true
   },
   "outputs": [
    {
     "name": "stdout",
     "output_type": "stream",
     "text": [
      "hello world\n",
      "hello world\n",
      "hello world\n",
      "hello world\n"
     ]
    }
   ],
   "source": [
    "print ('hello world')\n",
    "print (\"hello world\")\n",
    "print ('hello', \"world\")\n",
    "print ('hello' + ' world')"
   ]
  },
  {
   "cell_type": "markdown",
   "metadata": {},
   "source": [
    "## 语言风格"
   ]
  },
  {
   "cell_type": "markdown",
   "metadata": {},
   "source": [
    "#### 注释用`#`或两个`'''`"
   ]
  },
  {
   "cell_type": "code",
   "execution_count": 32,
   "metadata": {},
   "outputs": [
    {
     "name": "stdout",
     "output_type": "stream",
     "text": [
      "我是\n",
      "多行的\n",
      "字符串\n",
      "但也常被当成注释用~\n",
      "\n"
     ]
    }
   ],
   "source": [
    "# 我是正儿八经的注释\n",
    "print '''我是\n",
    "多行的\n",
    "字符串\n",
    "但也常被当成注释用~\n",
    "'''"
   ]
  },
  {
   "cell_type": "markdown",
   "metadata": {},
   "source": [
    "#### 变量声明不用指明类型"
   ]
  },
  {
   "cell_type": "code",
   "execution_count": 33,
   "metadata": {},
   "outputs": [
    {
     "name": "stdout",
     "output_type": "stream",
     "text": [
      "<type 'tuple'> (2, 1.3, 'love', 5.6, 9, 12, False)\n",
      "<type 'list'> [True, 5, 'smile', [1, 2.4, 'haha']]\n",
      "<type 'dict'> {'a': 2, 'c': {'c2': [True, 5, 'smile', [1, 2.4, 'haha']], 'c1': 1}, 'b': (2, 1.3, 'love', 5.6, 9, 12, False)}\n",
      "{\"a\": 2, \"c\": {\"c2\": [true, 5, \"smile\", [1, 2.4, \"haha\"]], \"c1\": 1}, \"b\": [2, 1.3, \"love\", 5.6, 9, 12, false]}\n"
     ]
    }
   ],
   "source": [
    "import json\n",
    "s1 = (2, 1.3, 'love', 5.6, 9, 12, False)\n",
    "s2 = [True, 5, 'smile', [1, 2.4, 'haha']]\n",
    "s3 = {'a':2, 'b':s1, 'c':{'c1':1, 'c2':s2}}\n",
    "print type(s1), s1\n",
    "print type(s2), s2\n",
    "print type(s3), s3\n",
    "print json.dumps(s3)"
   ]
  },
  {
   "cell_type": "markdown",
   "metadata": {},
   "source": [
    "#### 段落划分靠缩进，4个空格"
   ]
  },
  {
   "cell_type": "code",
   "execution_count": 6,
   "metadata": {},
   "outputs": [
    {
     "name": "stdout",
     "output_type": "stream",
     "text": [
      "0\n",
      "2\n",
      "4\n",
      "6\n",
      "8\n"
     ]
    }
   ],
   "source": [
    "for i in range(10):\n",
    "    if i%2 == 1: \n",
    "        continue\n",
    "    elif i == 9:\n",
    "        break\n",
    "    else:\n",
    "        print (i)"
   ]
  },
  {
   "cell_type": "markdown",
   "metadata": {},
   "source": [
    "## 函数 Function"
   ]
  },
  {
   "cell_type": "markdown",
   "metadata": {},
   "source": [
    "Python用关键词`def`来定义函数。"
   ]
  },
  {
   "cell_type": "code",
   "execution_count": 8,
   "metadata": {},
   "outputs": [
    {
     "data": {
      "text/plain": [
       "8"
      ]
     },
     "execution_count": 8,
     "metadata": {},
     "output_type": "execute_result"
    }
   ],
   "source": [
    "def square_sum(a,b,c):\n",
    "    d = a**2 + b**2 +c\n",
    "    return d\n",
    "\n",
    "square_sum(1, 2, 3)"
   ]
  },
  {
   "cell_type": "markdown",
   "metadata": {},
   "source": [
    "可以在定义时指定参数的默认值："
   ]
  },
  {
   "cell_type": "code",
   "execution_count": 10,
   "metadata": {},
   "outputs": [
    {
     "data": {
      "text/plain": [
       "8"
      ]
     },
     "execution_count": 10,
     "metadata": {},
     "output_type": "execute_result"
    }
   ],
   "source": [
    "def square_sum(a,b = 2,c = 2):\n",
    "    d = a**2 + b**2 + c\n",
    "    return d\n",
    "\n",
    "square_sum(a=1, c=3)"
   ]
  },
  {
   "cell_type": "markdown",
   "metadata": {},
   "source": [
    "## 模块 Module"
   ]
  },
  {
   "cell_type": "markdown",
   "metadata": {},
   "source": [
    "Python中使用`import`关键词来导入模块。"
   ]
  },
  {
   "cell_type": "code",
   "execution_count": 13,
   "metadata": {},
   "outputs": [],
   "source": [
    "import os\n",
    "# from os import xxx"
   ]
  },
  {
   "cell_type": "markdown",
   "metadata": {},
   "source": [
    "当前进程号："
   ]
  },
  {
   "cell_type": "code",
   "execution_count": 14,
   "metadata": {},
   "outputs": [
    {
     "data": {
      "text/plain": [
       "22380"
      ]
     },
     "execution_count": 14,
     "metadata": {},
     "output_type": "execute_result"
    }
   ],
   "source": [
    "os.getpid()"
   ]
  },
  {
   "cell_type": "markdown",
   "metadata": {},
   "source": [
    "系统分隔符："
   ]
  },
  {
   "cell_type": "code",
   "execution_count": 15,
   "metadata": {},
   "outputs": [
    {
     "data": {
      "text/plain": [
       "'\\\\'"
      ]
     },
     "execution_count": 15,
     "metadata": {},
     "output_type": "execute_result"
    }
   ],
   "source": [
    "os.sep"
   ]
  },
  {
   "cell_type": "markdown",
   "metadata": {},
   "source": [
    "## 类 Class"
   ]
  },
  {
   "cell_type": "markdown",
   "metadata": {},
   "source": [
    "用`class`来定义一个类。\n",
    "`Person(object)`表示继承自`object`类；\n",
    "`__init__`函数用来初始化对象；\n",
    "`self`表示对象自身，类似于`C` `Java`里面`this`。"
   ]
  },
  {
   "cell_type": "code",
   "execution_count": 65,
   "metadata": {},
   "outputs": [
    {
     "name": "stdout",
     "output_type": "stream",
     "text": [
      "<type 'NoneType'>\n",
      " None\n",
      "i'm male,a b 0\n"
     ]
    }
   ],
   "source": [
    "class Person(object):\n",
    "    a = ''\n",
    "    b = None\n",
    "    def __init__(self, first, last, age):\n",
    "        self.first = first\n",
    "        self.last = last\n",
    "        self.age = age\n",
    "        print type(self.b)\n",
    "        print self.a, self.b\n",
    "    def full_name(self):\n",
    "        return self.first + ' ' + self.last\n",
    "    \n",
    "class PersonMale(Person):\n",
    "    sex = 0\n",
    "    def print_all(self):\n",
    "        print self.full_name(), self.sex\n",
    "    \n",
    "    def full_name(self):\n",
    "        return 'i\\'m male,' + self.first + ' ' + self.last\n",
    "\n",
    "xx = PersonMale('a', 'b', 20)\n",
    "xx.print_all()"
   ]
  },
  {
   "cell_type": "markdown",
   "metadata": {},
   "source": [
    "构建新对象："
   ]
  },
  {
   "cell_type": "code",
   "execution_count": 61,
   "metadata": {},
   "outputs": [
    {
     "name": "stdout",
     "output_type": "stream",
     "text": [
      "<type 'NoneType'>\n",
      " None\n"
     ]
    }
   ],
   "source": [
    "person = Person('Elsie', 'Zhang', 18)"
   ]
  },
  {
   "cell_type": "markdown",
   "metadata": {},
   "source": [
    "调用对象的属性："
   ]
  },
  {
   "cell_type": "code",
   "execution_count": 51,
   "metadata": {},
   "outputs": [
    {
     "data": {
      "text/plain": [
       "'Elsie'"
      ]
     },
     "execution_count": 51,
     "metadata": {},
     "output_type": "execute_result"
    }
   ],
   "source": [
    "person.first"
   ]
  },
  {
   "cell_type": "markdown",
   "metadata": {},
   "source": [
    "调用对象的方法："
   ]
  },
  {
   "cell_type": "code",
   "execution_count": 52,
   "metadata": {},
   "outputs": [
    {
     "data": {
      "text/plain": [
       "'Elsie Zhang'"
      ]
     },
     "execution_count": 52,
     "metadata": {},
     "output_type": "execute_result"
    }
   ],
   "source": [
    "person.full_name()"
   ]
  },
  {
   "cell_type": "markdown",
   "metadata": {},
   "source": [
    "修改对象的属性："
   ]
  },
  {
   "cell_type": "code",
   "execution_count": 27,
   "metadata": {},
   "outputs": [],
   "source": [
    "person.last = 'Smith'"
   ]
  },
  {
   "cell_type": "markdown",
   "metadata": {},
   "source": [
    "### 目录\n",
    "- [**base.ipynb**](./base.ipynb): Python基础\n",
    "- [**loops.ipynb**](./loops.ipynb): Python循环语句\n",
    "- [**pythonic.ipynb**](./pythonic.ipynb): pythonic的编码示例，让代码更优雅\n",
    "- [**spider.ipynb**](./spider.ipynb): 一个网易云音乐歌词爬虫\n",
    "- [**wordcloud.ipynb**](./wordcloud.ipynb): 一个词云生成器"
   ]
  }
 ],
 "metadata": {
  "kernelspec": {
   "display_name": "Python 2",
   "language": "python",
   "name": "python2"
  },
  "language_info": {
   "codemirror_mode": {
    "name": "ipython",
    "version": 2
   },
   "file_extension": ".py",
   "mimetype": "text/x-python",
   "name": "python",
   "nbconvert_exporter": "python",
   "pygments_lexer": "ipython2",
   "version": "2.7.10"
  }
 },
 "nbformat": 4,
 "nbformat_minor": 2
}
