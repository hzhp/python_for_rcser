{
 "cells": [
  {
   "cell_type": "markdown",
   "metadata": {},
   "source": [
    "# 词云"
   ]
  },
  {
   "cell_type": "markdown",
   "metadata": {},
   "source": [
    "## 基础版\n",
    "### 步骤\n",
    "* 准备一个文档，如：十九大报告全文./data/19big.txt\n",
    "* 准备一个中文分词器，如结巴分词(https://github.com/fxsjy/jieba), pip install jieba\n",
    "* 安装词云开源库，pip install wordcloud\n",
    "* 可以自定义词云图形和字号大小等\n",
    "* 把这些串起来使用~"
   ]
  },
  {
   "cell_type": "code",
   "execution_count": 14,
   "metadata": {},
   "outputs": [
    {
     "ename": "AttributeError",
     "evalue": "'module' object has no attribute 'analyse'",
     "output_type": "error",
     "traceback": [
      "\u001b[1;31m\u001b[0m",
      "\u001b[1;31mAttributeError\u001b[0mTraceback (most recent call last)",
      "\u001b[1;32m<ipython-input-14-9abaad429e9e>\u001b[0m in \u001b[0;36m<module>\u001b[1;34m()\u001b[0m\n\u001b[0;32m     11\u001b[0m \u001b[1;31m# jieba.suggest_freq(u'中国特色')\u001b[0m\u001b[1;33m\u001b[0m\u001b[1;33m\u001b[0m\u001b[0m\n\u001b[0;32m     12\u001b[0m \u001b[1;31m# 自定义停用词\u001b[0m\u001b[1;33m\u001b[0m\u001b[1;33m\u001b[0m\u001b[0m\n\u001b[1;32m---> 13\u001b[1;33m \u001b[0mjieba\u001b[0m\u001b[1;33m.\u001b[0m\u001b[0manalyse\u001b[0m\u001b[1;33m.\u001b[0m\u001b[0mset_stop_words\u001b[0m\u001b[1;33m(\u001b[0m\u001b[1;34m'./data/stop_words.txt'\u001b[0m\u001b[1;33m)\u001b[0m\u001b[1;33m\u001b[0m\u001b[0m\n\u001b[0m\u001b[0;32m     14\u001b[0m \u001b[1;33m\u001b[0m\u001b[0m\n\u001b[0;32m     15\u001b[0m \u001b[0mword_list\u001b[0m \u001b[1;33m=\u001b[0m \u001b[0mjieba\u001b[0m\u001b[1;33m.\u001b[0m\u001b[0mcut\u001b[0m\u001b[1;33m(\u001b[0m\u001b[0mfile_data\u001b[0m\u001b[1;33m)\u001b[0m\u001b[1;33m\u001b[0m\u001b[0m\n",
      "\u001b[1;31mAttributeError\u001b[0m: 'module' object has no attribute 'analyse'"
     ]
    }
   ],
   "source": [
    "import matplotlib.pyplot as plt\n",
    "from wordcloud import WordCloud\n",
    "import jieba\n",
    "import jieba.analyse\n",
    "import os\n",
    "from PIL import Image\n",
    "import numpy as np\n",
    "\n",
    "file_data = open(u'./lyrics/赵雷 - 雷子.txt').read()\n",
    "# 自定义热词\n",
    "# jieba.suggest_freq(u'社会主义')\n",
    "# jieba.suggest_freq(u'中国特色')\n",
    "# 自定义停用词\n",
    "jieba.analyse.set_stop_words('./data/stop_words.txt')\n",
    "\n",
    "word_list = jieba.cut(file_data)\n",
    "wl_space_split = \" \".join(word_list)\n",
    "\n",
    "font_path = \"./data/STHUPO.TTF\"  # 字体\n",
    "abel_mask = np.array(Image.open(\"./data/ellipse.png\"))  # 形状\n",
    "my_wordcloud = WordCloud(font_path=font_path, min_font_size=10, max_words=50, font_step=2, background_color=\"white\", mask=abel_mask).generate(wl_space_split)\n",
    "\n",
    "plt.imshow(my_wordcloud)\n",
    "plt.axis(\"off\")\n",
    "plt.show()\n"
   ]
  },
  {
   "cell_type": "code",
   "execution_count": null,
   "metadata": {},
   "outputs": [],
   "source": []
  },
  {
   "cell_type": "code",
   "execution_count": null,
   "metadata": {},
   "outputs": [],
   "source": []
  }
 ],
 "metadata": {
  "kernelspec": {
   "display_name": "Python 2",
   "language": "python",
   "name": "python2"
  },
  "language_info": {
   "codemirror_mode": {
    "name": "ipython",
    "version": 2
   },
   "file_extension": ".py",
   "mimetype": "text/x-python",
   "name": "python",
   "nbconvert_exporter": "python",
   "pygments_lexer": "ipython2",
   "version": "2.7.10"
  }
 },
 "nbformat": 4,
 "nbformat_minor": 2
}
