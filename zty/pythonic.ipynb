{
 "cells": [
  {
   "cell_type": "markdown",
   "metadata": {},
   "source": [
    "### 目录\n",
    "- [**base.ipynb**](./base.ipynb): Python基础\n",
    "- [**loops.ipynb**](./loops.ipynb): Python循环语句\n",
    "- [**pythonic.ipynb**](./pythonic.ipynb): pythonic的编码示例，让代码更优雅\n",
    "- [**spider.ipynb**](./spider.ipynb): 一个网易云音乐歌词爬虫\n",
    "- [**wordcloud.ipynb**](./wordcloud.ipynb): 一个词云生成器"
   ]
  },
  {
   "cell_type": "markdown",
   "metadata": {},
   "source": [
    "# 让你的代码Pythonic\n",
    "## 何为Pythonic？\n",
    "> pythonic如果翻译成中文的话就是很python。\n",
    "> \n",
    "> 很python可以理解为：只有python能做到的，区别于其他语言的写法，其实就是python的惯用和特有写法。\n",
    "> \n",
    "> **简洁，优雅，可读性**"
   ]
  },
  {
   "cell_type": "code",
   "execution_count": 36,
   "metadata": {},
   "outputs": [],
   "source": [
    "a = 1\n",
    "b = 2"
   ]
  },
  {
   "cell_type": "markdown",
   "metadata": {},
   "source": [
    "### 置换两个变量的值"
   ]
  },
  {
   "cell_type": "markdown",
   "metadata": {},
   "source": [
    "*P*"
   ]
  },
  {
   "cell_type": "code",
   "execution_count": 37,
   "metadata": {},
   "outputs": [
    {
     "name": "stdout",
     "output_type": "stream",
     "text": [
      "2 1\n"
     ]
    }
   ],
   "source": [
    "a,b = b,a\n",
    "print a, b"
   ]
  },
  {
   "cell_type": "markdown",
   "metadata": {},
   "source": [
    "*NP*"
   ]
  },
  {
   "cell_type": "code",
   "execution_count": 42,
   "metadata": {},
   "outputs": [
    {
     "name": "stdout",
     "output_type": "stream",
     "text": [
      "1 2\n"
     ]
    }
   ],
   "source": [
    "temp = a\n",
    "a = b\n",
    "b = temp\n",
    "print a, b"
   ]
  },
  {
   "cell_type": "markdown",
   "metadata": {},
   "source": [
    "### 链式比较"
   ]
  },
  {
   "cell_type": "markdown",
   "metadata": {},
   "source": [
    "*P*"
   ]
  },
  {
   "cell_type": "code",
   "execution_count": 49,
   "metadata": {},
   "outputs": [
    {
     "name": "stdout",
     "output_type": "stream",
     "text": [
      "False\n"
     ]
    }
   ],
   "source": [
    "print 1 <= b <= a < 10"
   ]
  },
  {
   "cell_type": "markdown",
   "metadata": {},
   "source": [
    "*NP*"
   ]
  },
  {
   "cell_type": "code",
   "execution_count": 50,
   "metadata": {},
   "outputs": [
    {
     "name": "stdout",
     "output_type": "stream",
     "text": [
      "False\n"
     ]
    }
   ],
   "source": [
    "print b >= 1 and b <= a and a < 10"
   ]
  },
  {
   "cell_type": "markdown",
   "metadata": {},
   "source": [
    "### 真值测试\n",
    "- 真值表：\n",
    "\n",
    "| 真 | 假 |\n",
    "| -------------------- | -------------------- |\n",
    "| True | False |\n",
    "| 非空字符串 | 空字符串'' |\n",
    "| 非0数字 | 0 |\n",
    "| 非空容器 | [], {}, (), set() |\n",
    "| 其他 | None |"
   ]
  },
  {
   "cell_type": "markdown",
   "metadata": {},
   "source": [
    "*P*"
   ]
  },
  {
   "cell_type": "code",
   "execution_count": 4,
   "metadata": {},
   "outputs": [
    {
     "name": "stdout",
     "output_type": "stream",
     "text": [
      "All True!\n"
     ]
    }
   ],
   "source": [
    "name = 'Tim'\n",
    "langs = ['AS3', 'Lua', 'C']\n",
    "info = {'name': 'Tim', 'sex': 'Male', 'age':23 }    \n",
    " \n",
    "if name and langs and info:\n",
    "    print('All True!')"
   ]
  },
  {
   "cell_type": "markdown",
   "metadata": {},
   "source": [
    "*NP*"
   ]
  },
  {
   "cell_type": "code",
   "execution_count": 48,
   "metadata": {},
   "outputs": [
    {
     "name": "stdout",
     "output_type": "stream",
     "text": [
      "All True!\n"
     ]
    }
   ],
   "source": [
    "if name != '' and len(langs) > 0 and info != {}:\n",
    "    print('All True!')"
   ]
  },
  {
   "cell_type": "markdown",
   "metadata": {},
   "source": [
    "### 字符串反转"
   ]
  },
  {
   "cell_type": "markdown",
   "metadata": {},
   "source": [
    "*P*"
   ]
  },
  {
   "cell_type": "code",
   "execution_count": 53,
   "metadata": {},
   "outputs": [
    {
     "name": "stdout",
     "output_type": "stream",
     "text": [
      "dlrow olleh\n"
     ]
    }
   ],
   "source": [
    "def reverse_str( s ):\n",
    "    return s[::-1]  \n",
    "\n",
    "print reverse_str('hello world')"
   ]
  },
  {
   "cell_type": "markdown",
   "metadata": {},
   "source": [
    "*NP*"
   ]
  },
  {
   "cell_type": "code",
   "execution_count": 54,
   "metadata": {},
   "outputs": [
    {
     "name": "stdout",
     "output_type": "stream",
     "text": [
      "dlrow olleh\n"
     ]
    }
   ],
   "source": [
    "def reverse_str( s ):\n",
    "    t = ''\n",
    "    for x in xrange(len(s)-1,-1,-1):\n",
    "        t += s[x]\n",
    "    return t\n",
    "\n",
    "print reverse_str('hello world')"
   ]
  },
  {
   "cell_type": "markdown",
   "metadata": {},
   "source": [
    "**检测字符串是否是回文**"
   ]
  },
  {
   "cell_type": "code",
   "execution_count": 8,
   "metadata": {},
   "outputs": [
    {
     "name": "stdout",
     "output_type": "stream",
     "text": [
      "llolleh\n",
      "True\n"
     ]
    }
   ],
   "source": [
    "input = 'hellolleh'\n",
    "print input[2:]\n",
    "print input == input[::-1]"
   ]
  },
  {
   "cell_type": "markdown",
   "metadata": {},
   "source": [
    "### 字符串列表的连接\n",
    "> string.join()常用于连接列表里的字符串，相对于NP，P的方式十分高效，且不会犯错。"
   ]
  },
  {
   "cell_type": "markdown",
   "metadata": {},
   "source": [
    "*P*"
   ]
  },
  {
   "cell_type": "code",
   "execution_count": 59,
   "metadata": {},
   "outputs": [
    {
     "name": "stdout",
     "output_type": "stream",
     "text": [
      "Python is good\n"
     ]
    }
   ],
   "source": [
    "strList = [\"Python\", \"is\", \"good\"]  \n",
    "res =  ' '.join(strList)\n",
    "print res"
   ]
  },
  {
   "cell_type": "markdown",
   "metadata": {},
   "source": [
    "*NP*"
   ]
  },
  {
   "cell_type": "code",
   "execution_count": 60,
   "metadata": {},
   "outputs": [
    {
     "name": "stdout",
     "output_type": "stream",
     "text": [
      "Python is good \n"
     ]
    }
   ],
   "source": [
    "res = ''\n",
    "for s in strList:\n",
    "    res += s + ' '\n",
    "print res"
   ]
  },
  {
   "cell_type": "markdown",
   "metadata": {},
   "source": [
    "### 列表求和，最大值，最小值，乘积"
   ]
  },
  {
   "cell_type": "markdown",
   "metadata": {},
   "source": [
    "*P*"
   ]
  },
  {
   "cell_type": "code",
   "execution_count": 1,
   "metadata": {},
   "outputs": [
    {
     "name": "stdout",
     "output_type": "stream",
     "text": [
      "15 5 1 120\n"
     ]
    }
   ],
   "source": [
    "num_list = [1,2,3,4,5]\n",
    "\n",
    "sum_value = sum(num_list)\n",
    "max_num = max(num_list)\n",
    "min_num = min(num_list)\n",
    "\n",
    "from operator import mul\n",
    "prod = reduce(mul, num_list, 1)\n",
    "\n",
    "print sum_value, max_num, min_num, prod"
   ]
  },
  {
   "cell_type": "markdown",
   "metadata": {},
   "source": [
    "*NP*"
   ]
  },
  {
   "cell_type": "code",
   "execution_count": 69,
   "metadata": {},
   "outputs": [
    {
     "name": "stdout",
     "output_type": "stream",
     "text": [
      "0 5 1 120\n"
     ]
    }
   ],
   "source": [
    "num_list = [1,2,3,4,5]\n",
    "\n",
    "sum_value = 0\n",
    "max_num = -float('inf')\n",
    "min_num = float('inf')\n",
    "prod = 1\n",
    "for num in num_list:\n",
    "    if num > max_num:\n",
    "        max_num = num\n",
    "    if num < min_num:\n",
    "        min_num = num\n",
    "    sum += num\n",
    "    prod *= num\n",
    "print sum_value, max_num, min_num, prod"
   ]
  },
  {
   "cell_type": "markdown",
   "metadata": {},
   "source": [
    "### 列表推导式"
   ]
  },
  {
   "cell_type": "markdown",
   "metadata": {},
   "source": [
    "*P*"
   ]
  },
  {
   "cell_type": "code",
   "execution_count": 73,
   "metadata": {},
   "outputs": [
    {
     "name": "stdout",
     "output_type": "stream",
     "text": [
      "[0, 9, 36, 81]\n"
     ]
    }
   ],
   "source": [
    "l = [x*x for x in range(10) if x % 3 == 0]\n",
    "print l"
   ]
  },
  {
   "cell_type": "markdown",
   "metadata": {},
   "source": [
    "*NP*"
   ]
  },
  {
   "cell_type": "code",
   "execution_count": 74,
   "metadata": {},
   "outputs": [
    {
     "name": "stdout",
     "output_type": "stream",
     "text": [
      "[0, 9, 36, 81]\n"
     ]
    }
   ],
   "source": [
    "l = []\n",
    "for x in range(10):\n",
    "    if x % 3 == 0:\n",
    "        l.append(x*x)\n",
    "print l"
   ]
  },
  {
   "cell_type": "markdown",
   "metadata": {},
   "source": [
    "### 字典的默认值\n",
    "> dict的get(key,default)方法用于获取字典中key的值，若不存在该key，则将key赋默认值default。"
   ]
  },
  {
   "cell_type": "markdown",
   "metadata": {},
   "source": [
    "*P*"
   ]
  },
  {
   "cell_type": "code",
   "execution_count": 75,
   "metadata": {},
   "outputs": [
    {
     "name": "stdout",
     "output_type": "stream",
     "text": [
      "{'age': 23, 'workage': 1, 'name': 'Tim'}\n"
     ]
    }
   ],
   "source": [
    "dic = {'name':'Tim', 'age':23}  \n",
    " \n",
    "dic['workage'] = dic.get('workage',0) + 1\n",
    "print dic"
   ]
  },
  {
   "cell_type": "markdown",
   "metadata": {},
   "source": [
    "*NP*"
   ]
  },
  {
   "cell_type": "code",
   "execution_count": 76,
   "metadata": {},
   "outputs": [
    {
     "name": "stdout",
     "output_type": "stream",
     "text": [
      "{'age': 23, 'workage': 2, 'name': 'Tim'}\n"
     ]
    }
   ],
   "source": [
    "if 'workage' in dic:\n",
    "    dic['workage'] += 1\n",
    "else:\n",
    "    dic['workage'] = 1\n",
    "print dic"
   ]
  },
  {
   "cell_type": "markdown",
   "metadata": {},
   "source": [
    "### for…else…语句\n",
    "> for...else...的else部分用来处理没有从for循环中断的情况。\n",
    "> 有了它，我们不用设置状态变量来检查是否for循环有break出来，简单方便。"
   ]
  },
  {
   "cell_type": "markdown",
   "metadata": {},
   "source": [
    "*P*"
   ]
  },
  {
   "cell_type": "code",
   "execution_count": 77,
   "metadata": {},
   "outputs": [
    {
     "name": "stdout",
     "output_type": "stream",
     "text": [
      "can not find 5!\n"
     ]
    }
   ],
   "source": [
    "for x in xrange(1,5):\n",
    "    if x == 5:\n",
    "        print 'find 5'\n",
    "        break\n",
    "else:\n",
    "    print 'can not find 5!'"
   ]
  },
  {
   "cell_type": "markdown",
   "metadata": {},
   "source": [
    "*NP*"
   ]
  },
  {
   "cell_type": "code",
   "execution_count": 78,
   "metadata": {},
   "outputs": [
    {
     "name": "stdout",
     "output_type": "stream",
     "text": [
      "can not find 5!\n"
     ]
    }
   ],
   "source": [
    "find = False\n",
    "for x in xrange(1,5):\n",
    "    if x == 5:\n",
    "        find = True\n",
    "        print 'find 5'\n",
    "        break\n",
    "if not find:\n",
    "    print 'can not find 5!'"
   ]
  },
  {
   "cell_type": "markdown",
   "metadata": {},
   "source": [
    "### 三元符的替代\n",
    ">如果你具备C的编程经验，你就会寻找A ? B : C的替代品。你可能发现A and B or C看起来还不错，但是b = a > 1 and False or True会返回True，而实际意图应该返回False。 \n",
    ">\n",
    ">使用b = False if a > 1 else True则会正确返回False，所以它才是正宗的三元符替代品。"
   ]
  },
  {
   "cell_type": "markdown",
   "metadata": {},
   "source": [
    "*P*"
   ]
  },
  {
   "cell_type": "code",
   "execution_count": 79,
   "metadata": {},
   "outputs": [
    {
     "name": "stdout",
     "output_type": "stream",
     "text": [
      "1\n"
     ]
    }
   ],
   "source": [
    "b = 2 if a > 2 else 1\n",
    "print b"
   ]
  },
  {
   "cell_type": "markdown",
   "metadata": {},
   "source": [
    "*NP*"
   ]
  },
  {
   "cell_type": "code",
   "execution_count": 80,
   "metadata": {},
   "outputs": [
    {
     "name": "stdout",
     "output_type": "stream",
     "text": [
      "1\n"
     ]
    }
   ],
   "source": [
    "if a > 2:\n",
    "    b = 2\n",
    "else:\n",
    "    b = 1\n",
    "print b"
   ]
  },
  {
   "cell_type": "markdown",
   "metadata": {},
   "source": [
    "### Enumerate\n",
    "> 使用enumerate可以一次性将索引和值取出，避免使用索引来取值，而且enumerate的第二个参数可以调整索引下标的起始位置，默认为0。"
   ]
  },
  {
   "cell_type": "markdown",
   "metadata": {},
   "source": [
    "*P*"
   ]
  },
  {
   "cell_type": "code",
   "execution_count": 81,
   "metadata": {},
   "outputs": [
    {
     "name": "stdout",
     "output_type": "stream",
     "text": [
      "0 1\n",
      "1 2\n",
      "2 3\n",
      "3 4\n",
      "4 5\n"
     ]
    }
   ],
   "source": [
    "array = [1, 2, 3, 4, 5]\n",
    " \n",
    "for i, e in enumerate(array,0):\n",
    "    print i, e"
   ]
  },
  {
   "cell_type": "markdown",
   "metadata": {},
   "source": [
    "*NP*"
   ]
  },
  {
   "cell_type": "code",
   "execution_count": 82,
   "metadata": {},
   "outputs": [
    {
     "name": "stdout",
     "output_type": "stream",
     "text": [
      "0 1\n",
      "1 2\n",
      "2 3\n",
      "3 4\n",
      "4 5\n"
     ]
    }
   ],
   "source": [
    "for i in xrange(len(array)):\n",
    "    print i, array[i]"
   ]
  },
  {
   "cell_type": "markdown",
   "metadata": {},
   "source": [
    "### 使用zip创建键值对\n",
    "> zip方法返回的是一个元组，用它来创建键值对，简单明了。"
   ]
  },
  {
   "cell_type": "markdown",
   "metadata": {},
   "source": [
    "*P*"
   ]
  },
  {
   "cell_type": "code",
   "execution_count": 85,
   "metadata": {},
   "outputs": [
    {
     "name": "stdout",
     "output_type": "stream",
     "text": [
      "{'Age': 23, 'Name': 'Tim', 'Sex': 'Male'}\n"
     ]
    }
   ],
   "source": [
    "keys = ['Name', 'Sex', 'Age']\n",
    "values = ['Tim', 'Male', 23]\n",
    " \n",
    "dic = dict(zip(keys, values))\n",
    "print dic"
   ]
  },
  {
   "cell_type": "markdown",
   "metadata": {},
   "source": [
    "*NP*"
   ]
  },
  {
   "cell_type": "code",
   "execution_count": 86,
   "metadata": {},
   "outputs": [
    {
     "name": "stdout",
     "output_type": "stream",
     "text": [
      "{'Age': 23, 'Name': 'Tim', 'Sex': 'Male'}\n"
     ]
    }
   ],
   "source": [
    "dic = {}\n",
    "for i,e in enumerate(keys):\n",
    "    dic[e] = values[i]\n",
    "print dic"
   ]
  },
  {
   "cell_type": "markdown",
   "metadata": {},
   "source": [
    "### 目录\n",
    "- [**base.ipynb**](./base.ipynb): Python基础\n",
    "- [**loops.ipynb**](./loops.ipynb): Python循环语句\n",
    "- [**pythonic.ipynb**](./pythonic.ipynb): pythonic的编码示例，让代码更优雅\n",
    "- [**spider.ipynb**](./spider.ipynb): 一个网易云音乐歌词爬虫\n",
    "- [**wordcloud.ipynb**](./wordcloud.ipynb): 一个词云生成器"
   ]
  }
 ],
 "metadata": {
  "kernelspec": {
   "display_name": "Python 2",
   "language": "python",
   "name": "python2"
  },
  "language_info": {
   "codemirror_mode": {
    "name": "ipython",
    "version": 2
   },
   "file_extension": ".py",
   "mimetype": "text/x-python",
   "name": "python",
   "nbconvert_exporter": "python",
   "pygments_lexer": "ipython2",
   "version": "2.7.10"
  }
 },
 "nbformat": 4,
 "nbformat_minor": 2
}
